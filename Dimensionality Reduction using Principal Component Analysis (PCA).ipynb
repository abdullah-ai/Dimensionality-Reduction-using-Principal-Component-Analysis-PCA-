{
 "cells": [
  {
   "cell_type": "markdown",
   "id": "9436c919",
   "metadata": {},
   "source": [
    "##### Today we are going to apply what we learned in math till now in our Dimensionality Reduction Process throught Feature Selection using Principal Component Analysis"
   ]
  },
  {
   "cell_type": "markdown",
   "id": "b876eb7b",
   "metadata": {},
   "source": [
    "### Importing relevant libraries "
   ]
  },
  {
   "cell_type": "code",
   "execution_count": 2,
   "id": "9464f138",
   "metadata": {},
   "outputs": [],
   "source": [
    "import pandas as pd\n",
    "from sklearn.preprocessing import StandardScaler\n",
    "from sklearn.decomposition import PCA \n",
    "import matplotlib.pyplot as plt\n",
    "import seaborn as sns\n",
    "sns.set()"
   ]
  },
  {
   "cell_type": "markdown",
   "id": "fb5fd8d0",
   "metadata": {},
   "source": [
    "#### Loading dataset"
   ]
  },
  {
   "cell_type": "code",
   "execution_count": 3,
   "id": "888ea3f8",
   "metadata": {},
   "outputs": [
    {
     "data": {
      "text/html": [
       "<div>\n",
       "<style scoped>\n",
       "    .dataframe tbody tr th:only-of-type {\n",
       "        vertical-align: middle;\n",
       "    }\n",
       "\n",
       "    .dataframe tbody tr th {\n",
       "        vertical-align: top;\n",
       "    }\n",
       "\n",
       "    .dataframe thead th {\n",
       "        text-align: right;\n",
       "    }\n",
       "</style>\n",
       "<table border=\"1\" class=\"dataframe\">\n",
       "  <thead>\n",
       "    <tr style=\"text-align: right;\">\n",
       "      <th></th>\n",
       "      <th>Building</th>\n",
       "      <th>Year of sale</th>\n",
       "      <th>Month of sale</th>\n",
       "      <th>Type of property</th>\n",
       "      <th>Property #</th>\n",
       "      <th>Area (ft.)</th>\n",
       "      <th>Price</th>\n",
       "      <th>Status</th>\n",
       "    </tr>\n",
       "  </thead>\n",
       "  <tbody>\n",
       "    <tr>\n",
       "      <th>0</th>\n",
       "      <td>1</td>\n",
       "      <td>2005.0</td>\n",
       "      <td>11.0</td>\n",
       "      <td>0</td>\n",
       "      <td>30.0</td>\n",
       "      <td>743</td>\n",
       "      <td>246173</td>\n",
       "      <td>1</td>\n",
       "    </tr>\n",
       "    <tr>\n",
       "      <th>1</th>\n",
       "      <td>1</td>\n",
       "      <td>2005.0</td>\n",
       "      <td>10.0</td>\n",
       "      <td>0</td>\n",
       "      <td>29.0</td>\n",
       "      <td>756</td>\n",
       "      <td>246332</td>\n",
       "      <td>1</td>\n",
       "    </tr>\n",
       "    <tr>\n",
       "      <th>2</th>\n",
       "      <td>2</td>\n",
       "      <td>2007.0</td>\n",
       "      <td>7.0</td>\n",
       "      <td>0</td>\n",
       "      <td>2.0</td>\n",
       "      <td>587</td>\n",
       "      <td>209281</td>\n",
       "      <td>1</td>\n",
       "    </tr>\n",
       "    <tr>\n",
       "      <th>3</th>\n",
       "      <td>2</td>\n",
       "      <td>2007.0</td>\n",
       "      <td>12.0</td>\n",
       "      <td>0</td>\n",
       "      <td>31.0</td>\n",
       "      <td>1605</td>\n",
       "      <td>452667</td>\n",
       "      <td>1</td>\n",
       "    </tr>\n",
       "    <tr>\n",
       "      <th>4</th>\n",
       "      <td>1</td>\n",
       "      <td>2004.0</td>\n",
       "      <td>11.0</td>\n",
       "      <td>0</td>\n",
       "      <td>49.0</td>\n",
       "      <td>1375</td>\n",
       "      <td>467083</td>\n",
       "      <td>1</td>\n",
       "    </tr>\n",
       "    <tr>\n",
       "      <th>...</th>\n",
       "      <td>...</td>\n",
       "      <td>...</td>\n",
       "      <td>...</td>\n",
       "      <td>...</td>\n",
       "      <td>...</td>\n",
       "      <td>...</td>\n",
       "      <td>...</td>\n",
       "      <td>...</td>\n",
       "    </tr>\n",
       "    <tr>\n",
       "      <th>262</th>\n",
       "      <td>5</td>\n",
       "      <td>NaN</td>\n",
       "      <td>NaN</td>\n",
       "      <td>0</td>\n",
       "      <td>NaN</td>\n",
       "      <td>1239</td>\n",
       "      <td>322611</td>\n",
       "      <td>0</td>\n",
       "    </tr>\n",
       "    <tr>\n",
       "      <th>263</th>\n",
       "      <td>5</td>\n",
       "      <td>NaN</td>\n",
       "      <td>NaN</td>\n",
       "      <td>0</td>\n",
       "      <td>NaN</td>\n",
       "      <td>795</td>\n",
       "      <td>279191</td>\n",
       "      <td>0</td>\n",
       "    </tr>\n",
       "    <tr>\n",
       "      <th>264</th>\n",
       "      <td>5</td>\n",
       "      <td>NaN</td>\n",
       "      <td>NaN</td>\n",
       "      <td>0</td>\n",
       "      <td>NaN</td>\n",
       "      <td>1013</td>\n",
       "      <td>287997</td>\n",
       "      <td>0</td>\n",
       "    </tr>\n",
       "    <tr>\n",
       "      <th>265</th>\n",
       "      <td>5</td>\n",
       "      <td>NaN</td>\n",
       "      <td>NaN</td>\n",
       "      <td>0</td>\n",
       "      <td>NaN</td>\n",
       "      <td>1075</td>\n",
       "      <td>365869</td>\n",
       "      <td>0</td>\n",
       "    </tr>\n",
       "    <tr>\n",
       "      <th>266</th>\n",
       "      <td>5</td>\n",
       "      <td>NaN</td>\n",
       "      <td>NaN</td>\n",
       "      <td>0</td>\n",
       "      <td>NaN</td>\n",
       "      <td>789</td>\n",
       "      <td>199216</td>\n",
       "      <td>0</td>\n",
       "    </tr>\n",
       "  </tbody>\n",
       "</table>\n",
       "<p>267 rows × 8 columns</p>\n",
       "</div>"
      ],
      "text/plain": [
       "     Building  Year of sale  Month of sale  Type of property  Property #  \\\n",
       "0           1        2005.0           11.0                 0        30.0   \n",
       "1           1        2005.0           10.0                 0        29.0   \n",
       "2           2        2007.0            7.0                 0         2.0   \n",
       "3           2        2007.0           12.0                 0        31.0   \n",
       "4           1        2004.0           11.0                 0        49.0   \n",
       "..        ...           ...            ...               ...         ...   \n",
       "262         5           NaN            NaN                 0         NaN   \n",
       "263         5           NaN            NaN                 0         NaN   \n",
       "264         5           NaN            NaN                 0         NaN   \n",
       "265         5           NaN            NaN                 0         NaN   \n",
       "266         5           NaN            NaN                 0         NaN   \n",
       "\n",
       "     Area (ft.)   Price  Status  \n",
       "0           743  246173       1  \n",
       "1           756  246332       1  \n",
       "2           587  209281       1  \n",
       "3          1605  452667       1  \n",
       "4          1375  467083       1  \n",
       "..          ...     ...     ...  \n",
       "262        1239  322611       0  \n",
       "263         795  279191       0  \n",
       "264        1013  287997       0  \n",
       "265        1075  365869       0  \n",
       "266         789  199216       0  \n",
       "\n",
       "[267 rows x 8 columns]"
      ]
     },
     "execution_count": 3,
     "metadata": {},
     "output_type": "execute_result"
    }
   ],
   "source": [
    "data = pd.read_csv(\"California_Real_Estate.csv\", sep=\";\") # and here we used seperator to make it easy on reading features\n",
    "df_real_estate = data.copy()\n",
    "df_real_estate"
   ]
  },
  {
   "cell_type": "markdown",
   "id": "11842863",
   "metadata": {},
   "source": [
    "###### Now we will Drop the Null Values"
   ]
  },
  {
   "cell_type": "code",
   "execution_count": 9,
   "id": "f4fdfcb4",
   "metadata": {},
   "outputs": [
    {
     "data": {
      "text/html": [
       "<div>\n",
       "<style scoped>\n",
       "    .dataframe tbody tr th:only-of-type {\n",
       "        vertical-align: middle;\n",
       "    }\n",
       "\n",
       "    .dataframe tbody tr th {\n",
       "        vertical-align: top;\n",
       "    }\n",
       "\n",
       "    .dataframe thead th {\n",
       "        text-align: right;\n",
       "    }\n",
       "</style>\n",
       "<table border=\"1\" class=\"dataframe\">\n",
       "  <thead>\n",
       "    <tr style=\"text-align: right;\">\n",
       "      <th></th>\n",
       "      <th>Building</th>\n",
       "      <th>Year of sale</th>\n",
       "      <th>Month of sale</th>\n",
       "      <th>Type of property</th>\n",
       "      <th>Property #</th>\n",
       "      <th>Area (ft.)</th>\n",
       "      <th>Price</th>\n",
       "      <th>Status</th>\n",
       "    </tr>\n",
       "  </thead>\n",
       "  <tbody>\n",
       "    <tr>\n",
       "      <th>0</th>\n",
       "      <td>1</td>\n",
       "      <td>2005.0</td>\n",
       "      <td>11.0</td>\n",
       "      <td>0</td>\n",
       "      <td>30.0</td>\n",
       "      <td>743</td>\n",
       "      <td>246173</td>\n",
       "      <td>1</td>\n",
       "    </tr>\n",
       "    <tr>\n",
       "      <th>1</th>\n",
       "      <td>1</td>\n",
       "      <td>2005.0</td>\n",
       "      <td>10.0</td>\n",
       "      <td>0</td>\n",
       "      <td>29.0</td>\n",
       "      <td>756</td>\n",
       "      <td>246332</td>\n",
       "      <td>1</td>\n",
       "    </tr>\n",
       "    <tr>\n",
       "      <th>2</th>\n",
       "      <td>2</td>\n",
       "      <td>2007.0</td>\n",
       "      <td>7.0</td>\n",
       "      <td>0</td>\n",
       "      <td>2.0</td>\n",
       "      <td>587</td>\n",
       "      <td>209281</td>\n",
       "      <td>1</td>\n",
       "    </tr>\n",
       "    <tr>\n",
       "      <th>3</th>\n",
       "      <td>2</td>\n",
       "      <td>2007.0</td>\n",
       "      <td>12.0</td>\n",
       "      <td>0</td>\n",
       "      <td>31.0</td>\n",
       "      <td>1605</td>\n",
       "      <td>452667</td>\n",
       "      <td>1</td>\n",
       "    </tr>\n",
       "    <tr>\n",
       "      <th>4</th>\n",
       "      <td>1</td>\n",
       "      <td>2004.0</td>\n",
       "      <td>11.0</td>\n",
       "      <td>0</td>\n",
       "      <td>49.0</td>\n",
       "      <td>1375</td>\n",
       "      <td>467083</td>\n",
       "      <td>1</td>\n",
       "    </tr>\n",
       "    <tr>\n",
       "      <th>...</th>\n",
       "      <td>...</td>\n",
       "      <td>...</td>\n",
       "      <td>...</td>\n",
       "      <td>...</td>\n",
       "      <td>...</td>\n",
       "      <td>...</td>\n",
       "      <td>...</td>\n",
       "      <td>...</td>\n",
       "    </tr>\n",
       "    <tr>\n",
       "      <th>191</th>\n",
       "      <td>1</td>\n",
       "      <td>2005.0</td>\n",
       "      <td>7.0</td>\n",
       "      <td>0</td>\n",
       "      <td>22.0</td>\n",
       "      <td>743</td>\n",
       "      <td>210745</td>\n",
       "      <td>1</td>\n",
       "    </tr>\n",
       "    <tr>\n",
       "      <th>192</th>\n",
       "      <td>1</td>\n",
       "      <td>2005.0</td>\n",
       "      <td>7.0</td>\n",
       "      <td>0</td>\n",
       "      <td>28.0</td>\n",
       "      <td>1160</td>\n",
       "      <td>331155</td>\n",
       "      <td>1</td>\n",
       "    </tr>\n",
       "    <tr>\n",
       "      <th>193</th>\n",
       "      <td>1</td>\n",
       "      <td>2005.0</td>\n",
       "      <td>7.0</td>\n",
       "      <td>0</td>\n",
       "      <td>34.0</td>\n",
       "      <td>626</td>\n",
       "      <td>204435</td>\n",
       "      <td>1</td>\n",
       "    </tr>\n",
       "    <tr>\n",
       "      <th>194</th>\n",
       "      <td>1</td>\n",
       "      <td>2005.0</td>\n",
       "      <td>7.0</td>\n",
       "      <td>0</td>\n",
       "      <td>37.0</td>\n",
       "      <td>756</td>\n",
       "      <td>189194</td>\n",
       "      <td>1</td>\n",
       "    </tr>\n",
       "    <tr>\n",
       "      <th>195</th>\n",
       "      <td>1</td>\n",
       "      <td>2005.0</td>\n",
       "      <td>7.0</td>\n",
       "      <td>0</td>\n",
       "      <td>42.0</td>\n",
       "      <td>626</td>\n",
       "      <td>204027</td>\n",
       "      <td>1</td>\n",
       "    </tr>\n",
       "  </tbody>\n",
       "</table>\n",
       "<p>195 rows × 8 columns</p>\n",
       "</div>"
      ],
      "text/plain": [
       "     Building  Year of sale  Month of sale  Type of property  Property #  \\\n",
       "0           1        2005.0           11.0                 0        30.0   \n",
       "1           1        2005.0           10.0                 0        29.0   \n",
       "2           2        2007.0            7.0                 0         2.0   \n",
       "3           2        2007.0           12.0                 0        31.0   \n",
       "4           1        2004.0           11.0                 0        49.0   \n",
       "..        ...           ...            ...               ...         ...   \n",
       "191         1        2005.0            7.0                 0        22.0   \n",
       "192         1        2005.0            7.0                 0        28.0   \n",
       "193         1        2005.0            7.0                 0        34.0   \n",
       "194         1        2005.0            7.0                 0        37.0   \n",
       "195         1        2005.0            7.0                 0        42.0   \n",
       "\n",
       "     Area (ft.)   Price  Status  \n",
       "0           743  246173       1  \n",
       "1           756  246332       1  \n",
       "2           587  209281       1  \n",
       "3          1605  452667       1  \n",
       "4          1375  467083       1  \n",
       "..          ...     ...     ...  \n",
       "191         743  210745       1  \n",
       "192        1160  331155       1  \n",
       "193         626  204435       1  \n",
       "194         756  189194       1  \n",
       "195         626  204027       1  \n",
       "\n",
       "[195 rows x 8 columns]"
      ]
     },
     "execution_count": 9,
     "metadata": {},
     "output_type": "execute_result"
    }
   ],
   "source": [
    "# Here the null values is the unsold which represents 0 so we will keep the values that holding 1\n",
    "df_real_estate_nonull = df_real_estate[df_real_estate['Status'] == 1]\n",
    "df_real_estate_nonull"
   ]
  },
  {
   "cell_type": "markdown",
   "id": "f6bee5a7",
   "metadata": {},
   "source": [
    "#### Standraizing the Data or Rescaling it"
   ]
  },
  {
   "cell_type": "markdown",
   "id": "730c4e00",
   "metadata": {},
   "source": [
    "First we should ask ourselves why Standraizing Data is so important.?\n",
    "\n",
    "Let's explore the data and look at first row ['Area', 'Price'] and compare it with the third row.\n",
    "What we notice is the difference in price, let's substract the differnece 452.667 - 246.173 = 206.494,\n",
    "And if we saw the difference in the Areas 1605 - 743 = 862.\n",
    "\n",
    "The way the algorithm work will going to focus more on price as a variable without taking in context what value of each(area or price) represents,\n",
    "\n",
    "That will result an error in the predictiong because, in PCA it will take price as dominant variable and that will not give us a different view from the initial dataset,\n",
    "and that's exactly what we need from the algorithm to treat all components equally "
   ]
  },
  {
   "cell_type": "code",
   "execution_count": 10,
   "id": "e28f0fca",
   "metadata": {},
   "outputs": [],
   "source": [
    "scaler = StandardScaler()\n",
    "df_re_nonull_std = scaler.fit_transform(df_real_estate_nonull)\n",
    "# Note; PCA will construct as many Pcs as the dimension if we didn't specify"
   ]
  },
  {
   "cell_type": "code",
   "execution_count": 11,
   "id": "a3faa0cf",
   "metadata": {},
   "outputs": [
    {
     "data": {
      "text/plain": [
       "array([[-0.60734881,  1.31926442,  0.57906783, ..., -0.25542486,\n",
       "         0.2337479 ,  0.        ],\n",
       "       [-0.58105774,  1.34289556,  0.32392824, ..., -0.18273758,\n",
       "         0.199292  ,  0.        ],\n",
       "       [-1.8398805 , -0.1606641 , -0.29157809, ..., -0.71379278,\n",
       "         0.2905317 ,  0.        ],\n",
       "       ...,\n",
       "       [-1.03970034,  1.18485044, -0.6530342 , ..., -0.00559872,\n",
       "         0.19757116,  0.        ],\n",
       "       [-0.76196533,  1.19268984, -0.64690188, ..., -0.00744995,\n",
       "        -0.28604396,  0.        ],\n",
       "       [-0.82936359,  1.09937408, -0.7236547 , ..., -0.01692015,\n",
       "         0.20697981,  0.        ]])"
      ]
     },
     "execution_count": 11,
     "metadata": {},
     "output_type": "execute_result"
    }
   ],
   "source": [
    "pca = PCA() #that will make PCA take only 8 components\n",
    "pca.fit_transform(df_re_nonull_std) #this will take the variance and std of our data and standraizing this into according to these metrics \n"
   ]
  },
  {
   "cell_type": "markdown",
   "id": "6dc90904",
   "metadata": {},
   "source": [
    "#### Now we are going to analyze variants captured by each principal component.\n",
    "##### And then will chose a subset of these which captures an affairins but contains less than 8 components\n",
    "##### to chose how many components we are going to use we first will at the variants and each corresponding principal component carries on its own and for that we will use .explained  "
   ]
  },
  {
   "cell_type": "code",
   "execution_count": 13,
   "id": "e3a9c660",
   "metadata": {},
   "outputs": [
    {
     "data": {
      "text/plain": [
       "array([0.30724715, 0.28117078, 0.15166089, 0.12851171, 0.09233419,\n",
       "       0.03075947, 0.00831583, 0.        ])"
      ]
     },
     "execution_count": 13,
     "metadata": {},
     "output_type": "execute_result"
    }
   ],
   "source": [
    "pca.explained_variance_ratio_ # will return number of variants and note that it will decrease as the index increases"
   ]
  },
  {
   "cell_type": "markdown",
   "id": "7a337fe7",
   "metadata": {},
   "source": [
    "#### Let's explore it more by visualizing it"
   ]
  },
  {
   "cell_type": "code",
   "execution_count": 23,
   "id": "cb1ca777",
   "metadata": {},
   "outputs": [
    {
     "data": {
      "image/png": "[encoded data removed]",
      "text/plain": [
       "<Figure size 864x576 with 1 Axes>"
      ]
     },
     "metadata": {
      "needs_background": "light"
     },
     "output_type": "display_data"
    }
   ],
   "source": [
    "plt.figure(figsize = (12, 8))\n",
    "components = ['component_1', 'component_2', 'component_3', 'component_4',\n",
    "              'component_5', 'component_6', 'component_7', 'component_8']\n",
    "var_exp = pca.explained_variance_ratio_\n",
    "plt.bar(components, var_exp)\n",
    "plt.title=(\"Explained Variance by Principal Components\")\n",
    "plt.xlabel =['Principal Components']\n",
    "plt.ylabel = ['Explained Variance Ratio']\n",
    "plt.show()"
   ]
  },
  {
   "cell_type": "markdown",
   "id": "c3e42332",
   "metadata": {},
   "source": [
    "#### For further more analysis let's create a new plot showing the cummlative variance"
   ]
  },
  {
   "cell_type": "code",
   "execution_count": 30,
   "id": "b4e2daec",
   "metadata": {},
   "outputs": [
    {
     "data": {
      "image/png": "[encoded data removed]",
      "text/plain": [
       "<Figure size 720x432 with 1 Axes>"
      ]
     },
     "metadata": {
      "needs_background": "light"
     },
     "output_type": "display_data"
    }
   ],
   "source": [
    "plt.figure(figsize=(10,6))\n",
    "plt.plot(range(1,9),pca.explained_variance_ratio_.cumsum(),marker=\"o\",linestyle='--')\n",
    "plt.title=(\"Explained Variance by Components\")\n",
    "plt.xlabel =['Number of Components']\n",
    "plt.ylabel = ['Explained Cummulative Variance']\n",
    "plt.show()"
   ]
  },
  {
   "cell_type": "markdown",
   "id": "6af18399",
   "metadata": {},
   "source": [
    "In the above figure shows how many components we need to obtain 80% or above of the variance the answer we take 4 components to make more than 80%"
   ]
  },
  {
   "cell_type": "markdown",
   "id": "2ce5a029",
   "metadata": {},
   "source": [
    "## PCA Covariance Matrix - Analysis and Interpretation\n",
    "#### Now we should analyze our results\n",
    "Here comes the role of CoVariance Matrixit's very important to analyze the PCA results\n",
    "The EigenVectors of CoVariance Matrix are Principal Components\n",
    "To find it then we need to solve the eigenvectors/eigenvalue problem"
   ]
  },
  {
   "cell_type": "code",
   "execution_count": 31,
   "id": "0622fef5",
   "metadata": {},
   "outputs": [],
   "source": [
    "pca = PCA(n_components=4) # targeting the components to equal 4"
   ]
  },
  {
   "cell_type": "code",
   "execution_count": 32,
   "id": "fb698326",
   "metadata": {},
   "outputs": [
    {
     "data": {
      "text/html": [
       "<style>#sk-container-id-1 {color: black;background-color: white;}#sk-container-id-1 pre{padding: 0;}#sk-container-id-1 div.sk-toggleable {background-color: white;}#sk-container-id-1 label.sk-toggleable__label {cursor: pointer;display: block;width: 100%;margin-bottom: 0;padding: 0.3em;box-sizing: border-box;text-align: center;}#sk-container-id-1 label.sk-toggleable__label-arrow:before {content: \"▸\";float: left;margin-right: 0.25em;color: #696969;}#sk-container-id-1 label.sk-toggleable__label-arrow:hover:before {color: black;}#sk-container-id-1 div.sk-estimator:hover label.sk-toggleable__label-arrow:before {color: black;}#sk-container-id-1 div.sk-toggleable__content {max-height: 0;max-width: 0;overflow: hidden;text-align: left;background-color: #f0f8ff;}#sk-container-id-1 div.sk-toggleable__content pre {margin: 0.2em;color: black;border-radius: 0.25em;background-color: #f0f8ff;}#sk-container-id-1 input.sk-toggleable__control:checked~div.sk-toggleable__content {max-height: 200px;max-width: 100%;overflow: auto;}#sk-container-id-1 input.sk-toggleable__control:checked~label.sk-toggleable__label-arrow:before {content: \"▾\";}#sk-container-id-1 div.sk-estimator input.sk-toggleable__control:checked~label.sk-toggleable__label {background-color: #d4ebff;}#sk-container-id-1 div.sk-label input.sk-toggleable__control:checked~label.sk-toggleable__label {background-color: #d4ebff;}#sk-container-id-1 input.sk-hidden--visually {border: 0;clip: rect(1px 1px 1px 1px);clip: rect(1px, 1px, 1px, 1px);height: 1px;margin: -1px;overflow: hidden;padding: 0;position: absolute;width: 1px;}#sk-container-id-1 div.sk-estimator {font-family: monospace;background-color: #f0f8ff;border: 1px dotted black;border-radius: 0.25em;box-sizing: border-box;margin-bottom: 0.5em;}#sk-container-id-1 div.sk-estimator:hover {background-color: #d4ebff;}#sk-container-id-1 div.sk-parallel-item::after {content: \"\";width: 100%;border-bottom: 1px solid gray;flex-grow: 1;}#sk-container-id-1 div.sk-label:hover label.sk-toggleable__label {background-color: #d4ebff;}#sk-container-id-1 div.sk-serial::before {content: \"\";position: absolute;border-left: 1px solid gray;box-sizing: border-box;top: 0;bottom: 0;left: 50%;z-index: 0;}#sk-container-id-1 div.sk-serial {display: flex;flex-direction: column;align-items: center;background-color: white;padding-right: 0.2em;padding-left: 0.2em;position: relative;}#sk-container-id-1 div.sk-item {position: relative;z-index: 1;}#sk-container-id-1 div.sk-parallel {display: flex;align-items: stretch;justify-content: center;background-color: white;position: relative;}#sk-container-id-1 div.sk-item::before, #sk-container-id-1 div.sk-parallel-item::before {content: \"\";position: absolute;border-left: 1px solid gray;box-sizing: border-box;top: 0;bottom: 0;left: 50%;z-index: -1;}#sk-container-id-1 div.sk-parallel-item {display: flex;flex-direction: column;z-index: 1;position: relative;background-color: white;}#sk-container-id-1 div.sk-parallel-item:first-child::after {align-self: flex-end;width: 50%;}#sk-container-id-1 div.sk-parallel-item:last-child::after {align-self: flex-start;width: 50%;}#sk-container-id-1 div.sk-parallel-item:only-child::after {width: 0;}#sk-container-id-1 div.sk-dashed-wrapped {border: 1px dashed gray;margin: 0 0.4em 0.5em 0.4em;box-sizing: border-box;padding-bottom: 0.4em;background-color: white;}#sk-container-id-1 div.sk-label label {font-family: monospace;font-weight: bold;display: inline-block;line-height: 1.2em;}#sk-container-id-1 div.sk-label-container {text-align: center;}#sk-container-id-1 div.sk-container {/* jupyter's `normalize.less` sets `[hidden] { display: none; }` but bootstrap.min.css set `[hidden] { display: none !important; }` so we also need the `!important` here to be able to override the default hidden behavior on the sphinx rendered scikit-learn.org. See: https://github.com/scikit-learn/scikit-learn/issues/21755 */display: inline-block !important;position: relative;}#sk-container-id-1 div.sk-text-repr-fallback {display: none;}</style><div id=\"sk-container-id-1\" class=\"sk-top-container\"><div class=\"sk-text-repr-fallback\"><pre>PCA(n_components=4)</pre><b>In a Jupyter environment, please rerun this cell to show the HTML representation or trust the notebook. <br />On GitHub, the HTML representation is unable to render, please try loading this page with nbviewer.org.</b></div><div class=\"sk-container\" hidden><div class=\"sk-item\"><div class=\"sk-estimator sk-toggleable\"><input class=\"sk-toggleable__control sk-hidden--visually\" id=\"sk-estimator-id-1\" type=\"checkbox\" checked><label for=\"sk-estimator-id-1\" class=\"sk-toggleable__label sk-toggleable__label-arrow\">PCA</label><div class=\"sk-toggleable__content\"><pre>PCA(n_components=4)</pre></div></div></div></div></div>"
      ],
      "text/plain": [
       "PCA(n_components=4)"
      ]
     },
     "execution_count": 32,
     "metadata": {},
     "output_type": "execute_result"
    }
   ],
   "source": [
    "pca.fit(df_re_nonull_std) "
   ]
  },
  {
   "cell_type": "code",
   "execution_count": 33,
   "id": "6cc1b7b5",
   "metadata": {},
   "outputs": [
    {
     "data": {
      "text/plain": [
       "array([[-0.01347829,  0.06534594, -0.06689355, -0.15099905,  0.39492744,\n",
       "         0.63949973,  0.63509464,  0.        ],\n",
       "       [-0.61576753, -0.62980998, -0.02208123,  0.4114363 , -0.15693164,\n",
       "         0.12506318,  0.11888648, -0.        ],\n",
       "       [ 0.2675697 , -0.06682334,  0.90927776,  0.22605443, -0.12937694,\n",
       "         0.11386435,  0.1278709 ,  0.        ],\n",
       "       [ 0.26715037,  0.33315704, -0.3274807 ,  0.55432795, -0.56219835,\n",
       "         0.20000856,  0.21689532,  0.        ]])"
      ]
     },
     "execution_count": 33,
     "metadata": {},
     "output_type": "execute_result"
    }
   ],
   "source": [
    "pca.components_"
   ]
  },
  {
   "cell_type": "code",
   "execution_count": 34,
   "id": "72a93c41",
   "metadata": {},
   "outputs": [
    {
     "data": {
      "text/html": [
       "<div>\n",
       "<style scoped>\n",
       "    .dataframe tbody tr th:only-of-type {\n",
       "        vertical-align: middle;\n",
       "    }\n",
       "\n",
       "    .dataframe tbody tr th {\n",
       "        vertical-align: top;\n",
       "    }\n",
       "\n",
       "    .dataframe thead th {\n",
       "        text-align: right;\n",
       "    }\n",
       "</style>\n",
       "<table border=\"1\" class=\"dataframe\">\n",
       "  <thead>\n",
       "    <tr style=\"text-align: right;\">\n",
       "      <th></th>\n",
       "      <th>Building</th>\n",
       "      <th>Year of sale</th>\n",
       "      <th>Month of sale</th>\n",
       "      <th>Type of property</th>\n",
       "      <th>Property #</th>\n",
       "      <th>Area (ft.)</th>\n",
       "      <th>Price</th>\n",
       "      <th>Status</th>\n",
       "    </tr>\n",
       "  </thead>\n",
       "  <tbody>\n",
       "    <tr>\n",
       "      <th>component_1</th>\n",
       "      <td>-0.013478</td>\n",
       "      <td>0.065346</td>\n",
       "      <td>-0.066894</td>\n",
       "      <td>-0.150999</td>\n",
       "      <td>0.394927</td>\n",
       "      <td>0.639500</td>\n",
       "      <td>0.635095</td>\n",
       "      <td>0.0</td>\n",
       "    </tr>\n",
       "    <tr>\n",
       "      <th>component_2</th>\n",
       "      <td>-0.615768</td>\n",
       "      <td>-0.629810</td>\n",
       "      <td>-0.022081</td>\n",
       "      <td>0.411436</td>\n",
       "      <td>-0.156932</td>\n",
       "      <td>0.125063</td>\n",
       "      <td>0.118886</td>\n",
       "      <td>-0.0</td>\n",
       "    </tr>\n",
       "    <tr>\n",
       "      <th>component_3</th>\n",
       "      <td>0.267570</td>\n",
       "      <td>-0.066823</td>\n",
       "      <td>0.909278</td>\n",
       "      <td>0.226054</td>\n",
       "      <td>-0.129377</td>\n",
       "      <td>0.113864</td>\n",
       "      <td>0.127871</td>\n",
       "      <td>0.0</td>\n",
       "    </tr>\n",
       "    <tr>\n",
       "      <th>component_4</th>\n",
       "      <td>0.267150</td>\n",
       "      <td>0.333157</td>\n",
       "      <td>-0.327481</td>\n",
       "      <td>0.554328</td>\n",
       "      <td>-0.562198</td>\n",
       "      <td>0.200009</td>\n",
       "      <td>0.216895</td>\n",
       "      <td>0.0</td>\n",
       "    </tr>\n",
       "  </tbody>\n",
       "</table>\n",
       "</div>"
      ],
      "text/plain": [
       "             Building  Year of sale  Month of sale  Type of property  \\\n",
       "component_1 -0.013478      0.065346      -0.066894         -0.150999   \n",
       "component_2 -0.615768     -0.629810      -0.022081          0.411436   \n",
       "component_3  0.267570     -0.066823       0.909278          0.226054   \n",
       "component_4  0.267150      0.333157      -0.327481          0.554328   \n",
       "\n",
       "             Property #  Area (ft.)     Price  Status  \n",
       "component_1    0.394927    0.639500  0.635095     0.0  \n",
       "component_2   -0.156932    0.125063  0.118886    -0.0  \n",
       "component_3   -0.129377    0.113864  0.127871     0.0  \n",
       "component_4   -0.562198    0.200009  0.216895     0.0  "
      ]
     },
     "execution_count": 34,
     "metadata": {},
     "output_type": "execute_result"
    }
   ],
   "source": [
    "# in order interpret more easier we will create df pca \n",
    "df_pca_comp = pd.DataFrame(data=pca.components_,\n",
    "                           columns=df_real_estate.columns.values,\n",
    "                           index=['component_1', 'component_2', 'component_3', 'component_4'])\n",
    "df_pca_comp"
   ]
  },
  {
   "cell_type": "code",
   "execution_count": 41,
   "id": "3aa4f459",
   "metadata": {},
   "outputs": [
    {
     "data": {
      "image/png": "[encoded data removed]",
      "text/plain": [
       "<Figure size 432x288 with 2 Axes>"
      ]
     },
     "metadata": {
      "needs_background": "light"
     },
     "output_type": "display_data"
    }
   ],
   "source": [
    "# lets visualize it with heatmap using seaborn\n",
    "sns.heatmap(df_pca_comp,\n",
    "            vmin=-1,\n",
    "            vmax=1,\n",
    "            cmap='RdBu',\n",
    "            annot=True)\n",
    "\n",
    "plt.yticks([0,1,2,3],\n",
    "           ['component_1', 'component_2', 'component_3', 'component_4'],\n",
    "           rotation=45,\n",
    "           fontsize=12)\n",
    "plt.show()"
   ]
  },
  {
   "cell_type": "markdown",
   "id": "bef83053",
   "metadata": {},
   "source": [
    "The Conclusion we can gather from the previous visualization is that.\n",
    "comp_1 having a very high positive relation with price and area,\n",
    "comp_2 having high negative relation with building and year_of_sale,\n",
    "comp_3 having very high positive relation with month_of_sale,\n",
    "comp_4 having positive relation with type_of_property and negative relation with property#."
   ]
  },
  {
   "cell_type": "code",
   "execution_count": null,
   "id": "c8ad5aeb",
   "metadata": {},
   "outputs": [],
   "source": []
  }
 ],
 "metadata": {
  "kernelspec": {
   "display_name": "Python 3 (ipykernel)",
   "language": "python",
   "name": "python3"
  },
  "language_info": {
   "codemirror_mode": {
    "name": "ipython",
    "version": 3
   },
   "file_extension": ".py",
   "mimetype": "text/x-python",
   "name": "python",
   "nbconvert_exporter": "python",
   "pygments_lexer": "ipython3",
   "version": "3.10.4"
  }
 },
 "nbformat": 4,
 "nbformat_minor": 5
}
